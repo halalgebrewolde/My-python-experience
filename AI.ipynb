{
 "cells": [
  {
   "cell_type": "code",
   "execution_count": null,
   "metadata": {
    "vscode": {
     "languageId": "plaintext"
    }
   },
   "outputs": [],
   "source": [
    "import pandas as pd\n",
    "from skearn.tree import DecisionTreeClassifier\n",
    "from sklearn.model_selection import train_test_split\n",
    "from sklearn.metrics import accuracy_score\n",
    "from sklearn.externals import joblib\n",
    "Medicine_data=pd.read_csv(\"spreadsheet my partner is coding\")\n",
    "X=Medicine_data.drop(columns=['literally what my partner names it'])\n",
    "y=Medicine_data[\"literally what my partner sends\"]\n",
    "X_train,X_test,y_train,y_test=train_test_split(X,y, test_size=0.2)\n",
    "Model=DecisionTreeClassifier\n",
    "model.fit(X_train, y_train)\n",
    "predictions=model.predict(X_test,y_test)\n",
    "score=accuracy_score(y_test,predictions)\n",
    "score\n",
    "#2pm\n",
    "#tree.export_graphviz(model, out_file='music-recommender.dot')\n",
    "#feature_names=[\"age\",'gender'],\n",
    "#class_names=sorted(y.unique())\n",
    "#label='all'\n",
    "#rounded=True,\n",
    "#filled='True'\n",
    "model=joblib.load(\"whatever she names the file\") this is to test it"
   ]
  },
  {
   "cell_type": "code",
   "execution_count": null,
   "metadata": {
    "vscode": {
     "languageId": "plaintext"
    }
   },
   "outputs": [],
   "source": []
  }
 ],
 "metadata": {
  "language_info": {
   "name": "python"
  }
 },
 "nbformat": 4,
 "nbformat_minor": 2
}
